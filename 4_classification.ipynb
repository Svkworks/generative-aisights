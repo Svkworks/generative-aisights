{
 "cells": [
  {
   "cell_type": "code",
   "execution_count": 2,
   "id": "ede34c4a",
   "metadata": {},
   "outputs": [
    {
     "data": {
      "text/plain": [
       "True"
      ]
     },
     "execution_count": 2,
     "metadata": {},
     "output_type": "execute_result"
    }
   ],
   "source": [
    "# Install required package\n",
    "# %pip install langchain-openai\n",
    "# %pip install --upgrade --quiet langchain-core\n",
    "# %pip install -qU \"langchain[google-genai]\"\n",
    "import os\n",
    "import getpass\n",
    "from dotenv import load_dotenv\n",
    "\n",
    "load_dotenv()"
   ]
  },
  {
   "cell_type": "code",
   "execution_count": 3,
   "id": "04f6b009",
   "metadata": {},
   "outputs": [],
   "source": [
    "from langchain_openai import ChatOpenAI\n",
    "from pydantic import BaseModel, Field\n",
    "from typing import Literal\n",
    "\n",
    "class Classification(BaseModel):\n",
    "    sentiment:str = Field(description=\"The sentiment of the text\")\n",
    "    aggression:str = Field(description=\"Rate the aggression of the text from 1 to 10\")\n",
    "    language:str = Field(description=\"The language of the text\")\n",
    "\n",
    "\n",
    "class Classification_v2(BaseModel):\n",
    "    sentiment: Literal[\"positive\", \"negative\", \"neutral\"] = Field(description=\"The sentiment of the text\")\n",
    "    aggression: Literal[\"1\", \"2\", \"3\", \"4\", \"5\"] = Field(description=\"Rate the aggression of the text from 1 to 5\")\n",
    "    language: str = Field(description=\"The language of the text\")"
   ]
  },
  {
   "cell_type": "code",
   "execution_count": 4,
   "id": "20f70b46",
   "metadata": {},
   "outputs": [],
   "source": [
    "from langchain.chat_models import init_chat_model\n",
    "\n",
    "def get_structured_llm(Classification):\n",
    "    llm = init_chat_model(\"gemini-2.5-flash\", model_provider=\"google_genai\", api_key=os.getenv(\"GOOGLE_API_KEY\"))\n",
    "    structured_llm = llm.with_structured_output(Classification)\n",
    "    return structured_llm\n",
    "\n"
   ]
  },
  {
   "cell_type": "code",
   "execution_count": 5,
   "id": "df34b0ae",
   "metadata": {},
   "outputs": [],
   "source": [
    "from langchain_core.prompts import ChatPromptTemplate\n",
    "\n",
    "def get_prompt(text):\n",
    "    tagging_prompt = ChatPromptTemplate.from_template(\n",
    "    \"\"\"\n",
    "Extract the desired information from the following passage.\n",
    "\n",
    "Only extract the properties mentioned in the 'Classification' function.\n",
    "\n",
    "Passage: {input}\n",
    "\"\"\"\n",
    ")\n",
    "    input_text = text\n",
    "    structured_prompt = tagging_prompt.invoke({\"input\": input_text})\n",
    "\n",
    "    return structured_prompt\n",
    "\n",
    "\n",
    "\n"
   ]
  },
  {
   "cell_type": "code",
   "execution_count": null,
   "id": "a4e98b2e",
   "metadata": {},
   "outputs": [
    {
     "name": "stdout",
     "output_type": "stream",
     "text": [
      "Test the sentiments\n",
      "sentiment='Negative' aggression='8' language='English'\n",
      "sentiment='negative' aggression='4' language='English'\n"
     ]
    }
   ],
   "source": [
    "\n",
    "print(\"Test the sentiments\")\n",
    "input = \"I am a biggest fan of Virat Kohli, But not a big fan of MS Dhoni\"\n",
    "input2 = \"Babar is a pretty bad and worst player\"\n",
    "\n",
    "llm = get_structured_llm(Classification) \n",
    "result = llm.invoke(get_prompt(input2))\n",
    "print(result)\n",
    "\n",
    "llm2 = get_structured_llm(Classification_v2)\n",
    "result2 = llm2.invoke(get_prompt(input2))\n",
    "print(result2)\n",
    "\n"
   ]
  }
 ],
 "metadata": {
  "kernelspec": {
   "display_name": "venv",
   "language": "python",
   "name": "python3"
  },
  "language_info": {
   "codemirror_mode": {
    "name": "ipython",
    "version": 3
   },
   "file_extension": ".py",
   "mimetype": "text/x-python",
   "name": "python",
   "nbconvert_exporter": "python",
   "pygments_lexer": "ipython3",
   "version": "3.13.5"
  }
 },
 "nbformat": 4,
 "nbformat_minor": 5
}
