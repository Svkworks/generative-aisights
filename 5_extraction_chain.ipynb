{
 "cells": [
  {
   "cell_type": "code",
   "execution_count": 5,
   "id": "2daba439",
   "metadata": {},
   "outputs": [
    {
     "data": {
      "text/plain": [
       "True"
      ]
     },
     "execution_count": 5,
     "metadata": {},
     "output_type": "execute_result"
    }
   ],
   "source": [
    "# Install required package\n",
    "# %pip install langchain-openai\n",
    "# \n",
    "import os\n",
    "import getpass\n",
    "from dotenv import load_dotenv\n",
    "\n",
    "load_dotenv()"
   ]
  },
  {
   "cell_type": "code",
   "execution_count": 6,
   "id": "42a96769",
   "metadata": {},
   "outputs": [],
   "source": [
    "from typing import Optional\n",
    "from pydantic import BaseModel, Field\n",
    "from langchain.chat_models import init_chat_model\n",
    "\n",
    "class Vehicle(BaseModel):\n",
    "    name: Optional[str] = Field(description=\"The name of the vehicle\")\n",
    "    year: Optional[int] = Field(description=\"The year of the vehicle\")\n",
    "    color: Optional[str] = Field(description=\"The color of the vehicle\")\n",
    "\n",
    "class data(BaseModel):\n",
    "    motor_vehicles: list[Vehicle] \n",
    "\n",
    "\n",
    "def get_llm():\n",
    "    llm = init_chat_model(\n",
    "        model=\"gemini-1.5-flash\", \n",
    "        temperature=0, \n",
    "        model_provider=\"google_genai\", \n",
    "        api_key=os.getenv(\"GOOGLE_API_KEY\"),\n",
    "        max_tokens=500  # Limit tokens for faster response\n",
    "    )\n",
    "    return llm.with_structured_output(schema=data)\n",
    "\n"
   ]
  },
  {
   "cell_type": "code",
   "execution_count": 7,
   "id": "a91173b1",
   "metadata": {},
   "outputs": [],
   "source": [
    "from langchain.prompts import ChatPromptTemplate\n",
    "\n",
    "prompt_template = ChatPromptTemplate.from_messages([\n",
    "    (\"system\", \"\"\"You are an extraction algorithm. \n",
    "     Extract ALL vehicles/cars mentioned in the text.\n",
    "     For each vehicle, extract the name/brand, year, and color if available.\n",
    "     If no vehicles are found, return an empty list.\n",
    "     Make sure to capture ALL vehicles mentioned, not just the first one.\"\"\"),\n",
    "    (\"human\", \"{text}\")\n",
    "])"
   ]
  },
  {
   "cell_type": "code",
   "execution_count": 8,
   "id": "fcaa1f0b",
   "metadata": {},
   "outputs": [
    {
     "name": "stdout",
     "output_type": "stream",
     "text": [
      "Setting up LLM...\n",
      "Processing text: The kia car is a red car. The toyoyo car is a blue car and purchased in 2025\n",
      "Calling LLM...\n",
      "Success! Result:\n",
      "motor_vehicles=[Vehicle(name='kia', year=2023, color='red'), Vehicle(name='toyoyo', year=2025, color='blue')]\n"
     ]
    }
   ],
   "source": [
    "print(\"Setting up LLM...\")\n",
    "llm = get_llm()\n",
    "\n",
    "text = [\n",
    "    \"The kia car is a red car\",\n",
    "    \"The toyoyo car is a blue car and purchased in 2025\",\n",
    "]\n",
    "\n",
    "# Join the list items into a single string for better processing\n",
    "combined_text = \". \".join(text)\n",
    "print(f\"Processing text: {combined_text}\")\n",
    "\n",
    "prompt = prompt_template.invoke({\"text\": combined_text})\n",
    "print(\"Calling LLM...\")\n",
    "\n",
    "# Add timeout handling for faster feedback\n",
    "try:\n",
    "    result = llm.invoke(prompt)\n",
    "    print(\"Success! Result:\")\n",
    "    print(result)\n",
    "except Exception as e:\n",
    "    print(f\"Error: {e}\")\n",
    "    print(\"Try running again or check your API key/internet connection\")"
   ]
  },
  {
   "cell_type": "code",
   "execution_count": null,
   "id": "a4348821",
   "metadata": {},
   "outputs": [],
   "source": []
  }
 ],
 "metadata": {
  "kernelspec": {
   "display_name": "venv",
   "language": "python",
   "name": "python3"
  },
  "language_info": {
   "codemirror_mode": {
    "name": "ipython",
    "version": 3
   },
   "file_extension": ".py",
   "mimetype": "text/x-python",
   "name": "python",
   "nbconvert_exporter": "python",
   "pygments_lexer": "ipython3",
   "version": "3.13.5"
  }
 },
 "nbformat": 4,
 "nbformat_minor": 5
}
