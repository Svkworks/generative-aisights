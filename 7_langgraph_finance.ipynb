{
 "cells": [
  {
   "cell_type": "code",
   "execution_count": 1,
   "id": "4aa3ece1",
   "metadata": {},
   "outputs": [],
   "source": [
    "# !pip install langgraph"
   ]
  },
  {
   "cell_type": "code",
   "execution_count": 2,
   "id": "b80b6733",
   "metadata": {},
   "outputs": [
    {
     "data": {
      "text/plain": [
       "True"
      ]
     },
     "execution_count": 2,
     "metadata": {},
     "output_type": "execute_result"
    }
   ],
   "source": [
    "from dotenv import load_dotenv\n",
    "load_dotenv()"
   ]
  },
  {
   "cell_type": "code",
   "execution_count": 3,
   "id": "c5440223",
   "metadata": {},
   "outputs": [],
   "source": [
    "from typing import TypedDict, Literal\n",
    "\n",
    "class PortfolioState(TypedDict):\n",
    "    total_usd: float\n",
    "    amount_usd: float\n",
    "    target_currency: Literal[\"USD\", \"INR\", \"EUR\"]\n",
    "    total: float\n",
    "\n",
    "def get_conversion(state: PortfolioState) -> str:\n",
    "    return state[\"target_currency\"]\n",
    "\n",
    "def get_total_usd(state: PortfolioState) -> PortfolioState:\n",
    "    state[\"total_usd\"] = state[\"amount_usd\"] * 1.5\n",
    "    return state\n",
    "\n",
    "def get_total_inr(state: PortfolioState) -> PortfolioState:\n",
    "    state[\"total\"] = state[\"total_usd\"] * 95\n",
    "    return state\n",
    "\n",
    "def get_total_eur(state: PortfolioState) -> PortfolioState:\n",
    "    state[\"total\"] = state[\"total_usd\"] * 0.85\n",
    "    return state"
   ]
  },
  {
   "cell_type": "code",
   "execution_count": 4,
   "id": "05dbd012",
   "metadata": {},
   "outputs": [],
   "source": [
    "from langgraph.graph import START, END, StateGraph\n",
    "from langgraph.checkpoint.memory import MemorySaver\n",
    "\n",
    "builder = StateGraph(state_schema=PortfolioState)\n",
    "\n",
    "builder.add_edge(START,  \"get_total_usd\")\n",
    "builder.add_node(\"get_total_usd\", get_total_usd)\n",
    "\n",
    "builder.add_conditional_edges(\"get_total_usd\", \n",
    "    get_conversion,\n",
    "    {\n",
    "    \"INR\": \"get_total_inr\",\n",
    "    \"EUR\": \"get_total_eur\"\n",
    "})\n",
    "builder.add_node(\"get_total_inr\", get_total_inr)\n",
    "builder.add_node(\"get_total_eur\", get_total_eur)\n",
    "builder.add_edge([\"get_total_inr\", \"get_total_eur\"], END)\n",
    "\n",
    "checkpointer = MemorySaver() \n",
    "# graph = builder.compile(checkpointer=checkpointer)\n",
    "graph = builder.compile()\n",
    "\n",
    "# Invoking the graph\n",
    "# graph.invoke({\"amount_usd\": 100, \"target_currency\": \"INR\"})\n",
    "# graph.invoke({\"amount_usd\": 200, \"target_currency\": \"EUR\"})"
   ]
  },
  {
   "cell_type": "code",
   "execution_count": 5,
   "id": "e9e45b0b",
   "metadata": {},
   "outputs": [
    {
     "data": {
      "image/png": "[encoded data removed]",
      "text/plain": [
       "<IPython.core.display.Image object>"
      ]
     },
     "execution_count": 5,
     "metadata": {},
     "output_type": "execute_result"
    }
   ],
   "source": [
    "from IPython.display import Image\n",
    "Image(graph.get_graph().draw_mermaid_png())"
   ]
  },
  {
   "cell_type": "code",
   "execution_count": 6,
   "id": "39975db7",
   "metadata": {},
   "outputs": [],
   "source": [
    "from langchain.chat_models import init_chat_model\n",
    "from typing import Annotated, cast\n",
    "from langgraph.graph.message import add_messages\n",
    "\n",
    "llm = init_chat_model(model=\"gemini-2.5-flash\", model_provider=\"google_genai\") \n",
    "\n",
    "class State(TypedDict):\n",
    "    messages: Annotated[list, add_messages] \n",
    "\n",
    "def chatbot(state: State) -> State:\n",
    "    return { \"messages\" : [llm.invoke(state[\"messages\"])]}\n",
    "\n",
    "builder = StateGraph(state_schema=State)\n",
    "\n",
    "builder.add_edge(START, \"chatbot\")\n",
    "builder.add_node(\"chatbot\", chatbot)\n",
    "graph = builder.compile()\n",
    "\n"
   ]
  },
  {
   "cell_type": "code",
   "execution_count": 7,
   "id": "3453f859",
   "metadata": {},
   "outputs": [
    {
     "name": "stdout",
     "output_type": "stream",
     "text": [
      "Question:  Who is the top scorer in the world in test cricket?\n",
      "Answer:  The top scorer in Test cricket, in terms of **total career runs**, is **Sachin Tendulkar** from India.\n",
      "\n",
      "He scored **15,921 runs** in 200 Test matches during his career. He also holds the record for the most Test centuries, with 51.\n",
      "\n",
      "If you were thinking of the highest **average**, that would be Don Bradman (99.94).\n",
      "If you were thinking of the highest **individual score** in an innings, that belongs to Brian Lara (400* not out).\n"
     ]
    }
   ],
   "source": [
    "messages = { \"role\": \"user\", \"content\":  \"Who is the top scorer in the world in test cricket?\"}\n",
    "\n",
    "response = graph.invoke({\"messages\": [messages]})\n",
    "\n",
    "result = response[\"messages\"]\n",
    "print(\"Question: \", result[0].content)\n",
    "print(\"Answer: \", result[-1].content)"
   ]
  },
  {
   "cell_type": "code",
   "execution_count": 10,
   "id": "d365faad",
   "metadata": {},
   "outputs": [
    {
     "name": "stdout",
     "output_type": "stream",
     "text": [
      "Question:  who is the top scorer in test circket ?\n",
      "Answer:  The top scorer in Test cricket is **Sachin Tendulkar** from India.\n",
      "\n",
      "He holds the record for the most runs in the format with an incredible **15,921 runs** from 200 matches.\n",
      "\n",
      "Here's a quick look at his career stats in Test cricket:\n",
      "\n",
      "*   **Runs:** 15,921\n",
      "*   **Matches:** 200\n",
      "*   **Innings:** 329\n",
      "*   **Average:** 53.78\n",
      "*   **Centuries:** 51 (also a record)\n",
      "*   **Half-centuries:** 68\n",
      "*   **Career Span:** 1989-2013\n",
      "Question:  who is the top scorer in test circket ?\n",
      "Answer:  That's a fantastic question, and one that sparks a lot of debate among cricket fans! There isn't a single, universally agreed-upon \"best\" batsman in ODI cricket because different players excel in different ways and in different eras.\n",
      "\n",
      "However, a few names consistently come up in the discussion, each with a strong claim:\n",
      "\n",
      "1.  **Virat Kohli (India):**\n",
      "    *   **Why he's often considered the best:** His sheer consistency is unparalleled in the modern era. He has an incredible batting average (over 58) and a phenomenal century-making rate (50 centuries, the most in ODIs). He's particularly renowned for his ability to chase down targets under pressure. His conversion rate of fifties to hundreds is exceptional.\n",
      "    *   **Key Stats:** Most ODI centuries (50), second-highest run-scorer in ODIs (over 13,000 runs), incredible average.\n",
      "\n",
      "2.  **Sachin Tendulkar (India):**\n",
      "    *   **Why he's a legend:** The \"Little Master\" holds the record for the most runs in ODI history (18,426) and was the first to score 200 in an ODI. He dominated for over two decades, carrying the hopes of a nation, and played in an era with different rules and conditions. His longevity and ability to adapt are unmatched.\n",
      "    *   **Key Stats:** Most ODI runs (18,426), most ODI matches (463), most Player of the Match awards (62).\n",
      "\n",
      "3.  **Sir Viv Richards (West Indies):**\n",
      "    *   **Why he was revolutionary:** \"The Master Blaster\" dominated his era like no other. He played with an aggressive style and a strike rate that was far ahead of his time, often demoralizing opposition bowlers. He played without a helmet against the fastest bowlers and instilled fear.\n",
      "    *   **Key Stats:** Excellent average (47.00) and strike rate (90.20) from an era when both were significantly lower. Integral part of two World Cup-winning teams.\n",
      "\n",
      "4.  **AB de Villiers (South Africa):**\n",
      "    *   **Why he was unique:** \"Mr. 360\" redefined ODI batting with his ability to hit the ball to all parts of the ground. He holds records for the fastest 50, 100, and 150 in ODIs. His innovative shots, incredible power, and ability to accelerate the scoring rate made him a nightmare for bowlers.\n",
      "    *   **Key Stats:** Phenomenal strike rate (over 101), incredible impact on the game.\n",
      "\n",
      "**Other strong contenders and legends include:**\n",
      "\n",
      "*   **Ricky Ponting (Australia):** A brilliant captain and consistent run-scorer, especially in big tournaments.\n",
      "*   **Rohit Sharma (India):** The only player with three double centuries in ODIs, an incredible opener.\n",
      "*   **Brian Lara (West Indies):** Elegant, aggressive, and capable of match-winning innings.\n",
      "*   **Jacques Kallis (South Africa):** An all-rounder with an exceptional batting average and consistency.\n",
      "\n",
      "**In conclusion:**\n",
      "\n",
      "If forced to pick one based on **modern-era dominance, consistency, and record-breaking statistics**, **Virat Kohli** often gets the nod. However, **Sachin Tendulkar's** longevity and sheer volume of runs across different eras make him an undeniable all-time great. **Sir Viv Richards** and **AB de Villiers** represent different forms of revolutionary batting that changed the game.\n",
      "\n",
      "Ultimately, who you consider \"best\" might depend on what qualities you value most in an ODI batsman!\n"
     ]
    }
   ],
   "source": [
    "state = None\n",
    "\n",
    "while True:\n",
    "    input_message = input(\"Enter your message: \")\n",
    "    if input_message.lower() in [\"exit\", \"quit\", \"q\"]:\n",
    "        break\n",
    "\n",
    "    if state is None:\n",
    "        state = {\"messages\": [{\"role\": \"user\", \"content\": input_message}]}   \n",
    "    else:\n",
    "        state[\"messages\"].append({\"role\": \"user\", \"content\": input_message})\n",
    "\n",
    "    state = cast(State, graph.invoke(state))\n",
    "    result = state[\"messages\"]\n",
    "    print(\"Question: \", result[0].content)\n",
    "    print(\"Answer: \", result[-1].content)\n"
   ]
  },
  {
   "cell_type": "code",
   "execution_count": null,
   "id": "b63959d7",
   "metadata": {},
   "outputs": [],
   "source": []
  }
 ],
 "metadata": {
  "kernelspec": {
   "display_name": "Python 3",
   "language": "python",
   "name": "python3"
  },
  "language_info": {
   "codemirror_mode": {
    "name": "ipython",
    "version": 3
   },
   "file_extension": ".py",
   "mimetype": "text/x-python",
   "name": "python",
   "nbconvert_exporter": "python",
   "pygments_lexer": "ipython3",
   "version": "3.11.12"
  }
 },
 "nbformat": 4,
 "nbformat_minor": 5
}
